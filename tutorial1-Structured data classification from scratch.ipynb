{
 "cells": [
  {
   "cell_type": "code",
   "execution_count": null,
   "id": "6343ad57",
   "metadata": {},
   "outputs": [],
   "source": [
    "#L'importation des bibliothèques"
   ]
  },
  {
   "cell_type": "code",
   "execution_count": 1,
   "id": "ec15f1ff",
   "metadata": {},
   "outputs": [],
   "source": [
    "import tensorflow as tf\n",
    "import numpy as np\n",
    "import pandas as pd\n",
    "from tensorflow import kerast\n",
    "from tensorflow.keras import layers"
   ]
  },
  {
   "cell_type": "markdown",
   "id": "9ec0611b",
   "metadata": {},
   "source": [
    "# Data preparation"
   ]
  },
  {
   "cell_type": "code",
   "execution_count": 3,
   "id": "5cae6674",
   "metadata": {},
   "outputs": [],
   "source": [
    "#importation du fichier csv\n",
    "file_url = \"http://storage.googleapis.com/download.tensorflow.org/data/heart.csv\"\n",
    "dataframe = pd.read_csv(file_url)"
   ]
  },
  {
   "cell_type": "code",
   "execution_count": 4,
   "id": "86dfdfeb",
   "metadata": {},
   "outputs": [
    {
     "data": {
      "text/plain": [
       "(303, 14)"
      ]
     },
     "execution_count": 4,
     "metadata": {},
     "output_type": "execute_result"
    }
   ],
   "source": [
    "#the shape of dataset (303lignes-14colonnes)\n",
    "dataframe.shape"
   ]
  },
  {
   "cell_type": "code",
   "execution_count": 5,
   "id": "eb3ae9fa",
   "metadata": {},
   "outputs": [
    {
     "data": {
      "text/html": [
       "<div>\n",
       "<style scoped>\n",
       "    .dataframe tbody tr th:only-of-type {\n",
       "        vertical-align: middle;\n",
       "    }\n",
       "\n",
       "    .dataframe tbody tr th {\n",
       "        vertical-align: top;\n",
       "    }\n",
       "\n",
       "    .dataframe thead th {\n",
       "        text-align: right;\n",
       "    }\n",
       "</style>\n",
       "<table border=\"1\" class=\"dataframe\">\n",
       "  <thead>\n",
       "    <tr style=\"text-align: right;\">\n",
       "      <th></th>\n",
       "      <th>age</th>\n",
       "      <th>sex</th>\n",
       "      <th>cp</th>\n",
       "      <th>trestbps</th>\n",
       "      <th>chol</th>\n",
       "      <th>fbs</th>\n",
       "      <th>restecg</th>\n",
       "      <th>thalach</th>\n",
       "      <th>exang</th>\n",
       "      <th>oldpeak</th>\n",
       "      <th>slope</th>\n",
       "      <th>ca</th>\n",
       "      <th>thal</th>\n",
       "      <th>target</th>\n",
       "    </tr>\n",
       "  </thead>\n",
       "  <tbody>\n",
       "    <tr>\n",
       "      <th>0</th>\n",
       "      <td>63</td>\n",
       "      <td>1</td>\n",
       "      <td>1</td>\n",
       "      <td>145</td>\n",
       "      <td>233</td>\n",
       "      <td>1</td>\n",
       "      <td>2</td>\n",
       "      <td>150</td>\n",
       "      <td>0</td>\n",
       "      <td>2.3</td>\n",
       "      <td>3</td>\n",
       "      <td>0</td>\n",
       "      <td>fixed</td>\n",
       "      <td>0</td>\n",
       "    </tr>\n",
       "    <tr>\n",
       "      <th>1</th>\n",
       "      <td>67</td>\n",
       "      <td>1</td>\n",
       "      <td>4</td>\n",
       "      <td>160</td>\n",
       "      <td>286</td>\n",
       "      <td>0</td>\n",
       "      <td>2</td>\n",
       "      <td>108</td>\n",
       "      <td>1</td>\n",
       "      <td>1.5</td>\n",
       "      <td>2</td>\n",
       "      <td>3</td>\n",
       "      <td>normal</td>\n",
       "      <td>1</td>\n",
       "    </tr>\n",
       "    <tr>\n",
       "      <th>2</th>\n",
       "      <td>67</td>\n",
       "      <td>1</td>\n",
       "      <td>4</td>\n",
       "      <td>120</td>\n",
       "      <td>229</td>\n",
       "      <td>0</td>\n",
       "      <td>2</td>\n",
       "      <td>129</td>\n",
       "      <td>1</td>\n",
       "      <td>2.6</td>\n",
       "      <td>2</td>\n",
       "      <td>2</td>\n",
       "      <td>reversible</td>\n",
       "      <td>0</td>\n",
       "    </tr>\n",
       "    <tr>\n",
       "      <th>3</th>\n",
       "      <td>37</td>\n",
       "      <td>1</td>\n",
       "      <td>3</td>\n",
       "      <td>130</td>\n",
       "      <td>250</td>\n",
       "      <td>0</td>\n",
       "      <td>0</td>\n",
       "      <td>187</td>\n",
       "      <td>0</td>\n",
       "      <td>3.5</td>\n",
       "      <td>3</td>\n",
       "      <td>0</td>\n",
       "      <td>normal</td>\n",
       "      <td>0</td>\n",
       "    </tr>\n",
       "    <tr>\n",
       "      <th>4</th>\n",
       "      <td>41</td>\n",
       "      <td>0</td>\n",
       "      <td>2</td>\n",
       "      <td>130</td>\n",
       "      <td>204</td>\n",
       "      <td>0</td>\n",
       "      <td>2</td>\n",
       "      <td>172</td>\n",
       "      <td>0</td>\n",
       "      <td>1.4</td>\n",
       "      <td>1</td>\n",
       "      <td>0</td>\n",
       "      <td>normal</td>\n",
       "      <td>0</td>\n",
       "    </tr>\n",
       "  </tbody>\n",
       "</table>\n",
       "</div>"
      ],
      "text/plain": [
       "   age  sex  cp  trestbps  chol  fbs  restecg  thalach  exang  oldpeak  slope  \\\n",
       "0   63    1   1       145   233    1        2      150      0      2.3      3   \n",
       "1   67    1   4       160   286    0        2      108      1      1.5      2   \n",
       "2   67    1   4       120   229    0        2      129      1      2.6      2   \n",
       "3   37    1   3       130   250    0        0      187      0      3.5      3   \n",
       "4   41    0   2       130   204    0        2      172      0      1.4      1   \n",
       "\n",
       "   ca        thal  target  \n",
       "0   0       fixed       0  \n",
       "1   3      normal       1  \n",
       "2   2  reversible       0  \n",
       "3   0      normal       0  \n",
       "4   0      normal       0  "
      ]
     },
     "execution_count": 5,
     "metadata": {},
     "output_type": "execute_result"
    }
   ],
   "source": [
    "#les 5 premiers lignes du dataset\n",
    "dataframe.head()"
   ]
  },
  {
   "cell_type": "code",
   "execution_count": 6,
   "id": "4c718f6d",
   "metadata": {},
   "outputs": [
    {
     "name": "stdout",
     "output_type": "stream",
     "text": [
      "Using 242 samples for training and 61 for validation\n"
     ]
    }
   ],
   "source": [
    "#spliting data to training and validation(20%)\n",
    "val_dataframe = dataframe.sample(frac=0.2, random_state=1337)\n",
    "train_dataframe = dataframe.drop(val_dataframe.index)\n",
    "\n",
    "print(\n",
    "    \"Using %d samples for training and %d for validation\"\n",
    "    % (len(train_dataframe), len(val_dataframe))\n",
    ")"
   ]
  },
  {
   "cell_type": "code",
   "execution_count": 7,
   "id": "8afc8ac2",
   "metadata": {},
   "outputs": [],
   "source": [
    "#convert dataframe into tensorflow dataset\n",
    "def dataframe_to_dataset(dataframe):\n",
    "    dataframe = dataframe.copy()\n",
    "    labels = dataframe.pop(\"target\")\n",
    "    ds = tf.data.Dataset.from_tensor_slices((dict(dataframe), labels))\n",
    "    ds = ds.shuffle(buffer_size=len(dataframe))\n",
    "    return ds\n",
    "\n",
    "\n",
    "train_ds = dataframe_to_dataset(train_dataframe)\n",
    "val_ds = dataframe_to_dataset(val_dataframe)"
   ]
  },
  {
   "cell_type": "code",
   "execution_count": 8,
   "id": "28ebf634",
   "metadata": {},
   "outputs": [
    {
     "name": "stdout",
     "output_type": "stream",
     "text": [
      "Input: {'age': <tf.Tensor: shape=(), dtype=int64, numpy=52>, 'sex': <tf.Tensor: shape=(), dtype=int64, numpy=1>, 'cp': <tf.Tensor: shape=(), dtype=int64, numpy=1>, 'trestbps': <tf.Tensor: shape=(), dtype=int64, numpy=118>, 'chol': <tf.Tensor: shape=(), dtype=int64, numpy=186>, 'fbs': <tf.Tensor: shape=(), dtype=int64, numpy=0>, 'restecg': <tf.Tensor: shape=(), dtype=int64, numpy=2>, 'thalach': <tf.Tensor: shape=(), dtype=int64, numpy=190>, 'exang': <tf.Tensor: shape=(), dtype=int64, numpy=0>, 'oldpeak': <tf.Tensor: shape=(), dtype=float64, numpy=0.0>, 'slope': <tf.Tensor: shape=(), dtype=int64, numpy=2>, 'ca': <tf.Tensor: shape=(), dtype=int64, numpy=0>, 'thal': <tf.Tensor: shape=(), dtype=string, numpy=b'fixed'>}\n",
      "Target: tf.Tensor(0, shape=(), dtype=int64)\n"
     ]
    }
   ],
   "source": [
    "#define x and y \n",
    "for x, y in train_ds.take(1):\n",
    "    print(\"Input:\", x)\n",
    "    print(\"Target:\", y)"
   ]
  },
  {
   "cell_type": "code",
   "execution_count": 9,
   "id": "851fa010",
   "metadata": {},
   "outputs": [],
   "source": [
    "#create batches with size of 32\n",
    "train_ds = train_ds.batch(32)\n",
    "val_ds = val_ds.batch(32)"
   ]
  },
  {
   "cell_type": "markdown",
   "id": "67647085",
   "metadata": {},
   "source": [
    "# Feature preprocessing"
   ]
  },
  {
   "cell_type": "code",
   "execution_count": 10,
   "id": "27654130",
   "metadata": {},
   "outputs": [],
   "source": [
    "from tensorflow.keras.layers import IntegerLookup\n",
    "from tensorflow.keras.layers import Normalization\n",
    "from tensorflow.keras.layers import StringLookup\n",
    "\n",
    "##normalize the numerical attributes\n",
    "def encode_numerical_feature(feature, name, dataset):\n",
    "    # Create a Normalization layer for our feature\n",
    "    normalizer = Normalization()\n",
    "\n",
    "    # Prepare a Dataset that only yields our feature\n",
    "    feature_ds = dataset.map(lambda x, y: x[name])\n",
    "    feature_ds = feature_ds.map(lambda x: tf.expand_dims(x, -1))\n",
    "\n",
    "    # Learn the statistics of the data\n",
    "    normalizer.adapt(feature_ds)\n",
    "\n",
    "    # Normalize the input feature\n",
    "    encoded_feature = normalizer(feature)\n",
    "    return encoded_feature\n",
    "\n",
    "##vectorize the categorical attributes\n",
    "\n",
    "def encode_categorical_feature(feature, name, dataset, is_string):\n",
    "    lookup_class = StringLookup if is_string else IntegerLookup\n",
    "    # Create a lookup layer which will turn strings into integer indices\n",
    "    lookup = lookup_class(output_mode=\"binary\")\n",
    "\n",
    "    # Prepare a Dataset that only yields our feature\n",
    "    feature_ds = dataset.map(lambda x, y: x[name])\n",
    "    feature_ds = feature_ds.map(lambda x: tf.expand_dims(x, -1))\n",
    "\n",
    "    # Learn the set of possible string values and assign them a fixed integer index\n",
    "    lookup.adapt(feature_ds)\n",
    "\n",
    "    # Turn the string input into integer indices\n",
    "    encoded_feature = lookup(feature)\n",
    "    return encoded_feature"
   ]
  },
  {
   "cell_type": "markdown",
   "id": "e024344f",
   "metadata": {},
   "source": [
    "# création du model"
   ]
  },
  {
   "cell_type": "code",
   "execution_count": 11,
   "id": "53ee28f1",
   "metadata": {},
   "outputs": [],
   "source": [
    "# Categorical features encoded as integers\n",
    "sex = keras.Input(shape=(1,), name=\"sex\", dtype=\"int64\")\n",
    "cp = keras.Input(shape=(1,), name=\"cp\", dtype=\"int64\")\n",
    "fbs = keras.Input(shape=(1,), name=\"fbs\", dtype=\"int64\")\n",
    "restecg = keras.Input(shape=(1,), name=\"restecg\", dtype=\"int64\")\n",
    "exang = keras.Input(shape=(1,), name=\"exang\", dtype=\"int64\")\n",
    "ca = keras.Input(shape=(1,), name=\"ca\", dtype=\"int64\")\n",
    "\n",
    "# Categorical feature encoded as string\n",
    "thal = keras.Input(shape=(1,), name=\"thal\", dtype=\"string\")\n",
    "\n",
    "# Numerical features\n",
    "age = keras.Input(shape=(1,), name=\"age\")\n",
    "trestbps = keras.Input(shape=(1,), name=\"trestbps\")\n",
    "chol = keras.Input(shape=(1,), name=\"chol\")\n",
    "thalach = keras.Input(shape=(1,), name=\"thalach\")\n",
    "oldpeak = keras.Input(shape=(1,), name=\"oldpeak\")\n",
    "slope = keras.Input(shape=(1,), name=\"slope\")\n",
    "\n",
    "all_inputs = [\n",
    "    sex,\n",
    "    cp,\n",
    "    fbs,\n",
    "    restecg,\n",
    "    exang,\n",
    "    ca,\n",
    "    thal,\n",
    "    age,\n",
    "    trestbps,\n",
    "    chol,\n",
    "    thalach,\n",
    "    oldpeak,\n",
    "    slope,\n",
    "]\n",
    "\n",
    "# Integer categorical features\n",
    "sex_encoded = encode_categorical_feature(sex, \"sex\", train_ds, False)\n",
    "cp_encoded = encode_categorical_feature(cp, \"cp\", train_ds, False)\n",
    "fbs_encoded = encode_categorical_feature(fbs, \"fbs\", train_ds, False)\n",
    "restecg_encoded = encode_categorical_feature(restecg, \"restecg\", train_ds, False)\n",
    "exang_encoded = encode_categorical_feature(exang, \"exang\", train_ds, False)\n",
    "ca_encoded = encode_categorical_feature(ca, \"ca\", train_ds, False)\n",
    "\n",
    "# String categorical features\n",
    "thal_encoded = encode_categorical_feature(thal, \"thal\", train_ds, True)\n",
    "\n",
    "# Numerical features\n",
    "age_encoded = encode_numerical_feature(age, \"age\", train_ds)\n",
    "trestbps_encoded = encode_numerical_feature(trestbps, \"trestbps\", train_ds)\n",
    "chol_encoded = encode_numerical_feature(chol, \"chol\", train_ds)\n",
    "thalach_encoded = encode_numerical_feature(thalach, \"thalach\", train_ds)\n",
    "oldpeak_encoded = encode_numerical_feature(oldpeak, \"oldpeak\", train_ds)\n",
    "slope_encoded = encode_numerical_feature(slope, \"slope\", train_ds)\n",
    "\n",
    "all_features = layers.concatenate(\n",
    "    [\n",
    "        sex_encoded,\n",
    "        cp_encoded,\n",
    "        fbs_encoded,\n",
    "        restecg_encoded,\n",
    "        exang_encoded,\n",
    "        slope_encoded,\n",
    "        ca_encoded,\n",
    "        thal_encoded,\n",
    "        age_encoded,\n",
    "        trestbps_encoded,\n",
    "        chol_encoded,\n",
    "        thalach_encoded,\n",
    "        oldpeak_encoded,\n",
    "    ]\n",
    ")\n",
    "#le nombre des inputs est 32 et la fonction d'activation est Relu\n",
    "x = layers.Dense(32, activation=\"relu\")(all_features)\n",
    "x = layers.Dropout(0.5)(x)\n",
    "output = layers.Dense(1, activation=\"sigmoid\")(x)\n",
    "model = keras.Model(all_inputs, output)\n",
    "model.compile(\"adam\", \"binary_crossentropy\", metrics=[\"accuracy\"])"
   ]
  },
  {
   "cell_type": "code",
   "execution_count": 12,
   "id": "9736e25d",
   "metadata": {},
   "outputs": [
    {
     "name": "stdout",
     "output_type": "stream",
     "text": [
      "You must install pydot (`pip install pydot`) and install graphviz (see instructions at https://graphviz.gitlab.io/download/) for plot_model to work.\n"
     ]
    }
   ],
   "source": [
    "# `rankdir='LR'` is to make the graph horizontal.\n",
    "keras.utils.plot_model(model, show_shapes=True, rankdir=\"LR\")"
   ]
  },
  {
   "cell_type": "code",
   "execution_count": 13,
   "id": "eb133de2",
   "metadata": {},
   "outputs": [
    {
     "name": "stdout",
     "output_type": "stream",
     "text": [
      "Epoch 1/50\n",
      "8/8 [==============================] - 13s 496ms/step - loss: 0.7633 - accuracy: 0.4876 - val_loss: 0.6919 - val_accuracy: 0.5082\n",
      "Epoch 2/50\n",
      "8/8 [==============================] - 0s 29ms/step - loss: 0.7159 - accuracy: 0.5579 - val_loss: 0.6370 - val_accuracy: 0.6230\n",
      "Epoch 3/50\n",
      "8/8 [==============================] - 0s 50ms/step - loss: 0.6333 - accuracy: 0.6322 - val_loss: 0.5931 - val_accuracy: 0.7541\n",
      "Epoch 4/50\n",
      "8/8 [==============================] - 0s 36ms/step - loss: 0.6192 - accuracy: 0.6157 - val_loss: 0.5552 - val_accuracy: 0.7541\n",
      "Epoch 5/50\n",
      "8/8 [==============================] - 0s 29ms/step - loss: 0.5659 - accuracy: 0.7231 - val_loss: 0.5247 - val_accuracy: 0.7705\n",
      "Epoch 6/50\n",
      "8/8 [==============================] - 0s 29ms/step - loss: 0.5528 - accuracy: 0.6901 - val_loss: 0.4992 - val_accuracy: 0.7705\n",
      "Epoch 7/50\n",
      "8/8 [==============================] - 0s 27ms/step - loss: 0.5391 - accuracy: 0.7314 - val_loss: 0.4771 - val_accuracy: 0.7705\n",
      "Epoch 8/50\n",
      "8/8 [==============================] - 0s 28ms/step - loss: 0.5157 - accuracy: 0.7025 - val_loss: 0.4585 - val_accuracy: 0.7869\n",
      "Epoch 9/50\n",
      "8/8 [==============================] - 0s 33ms/step - loss: 0.5012 - accuracy: 0.7479 - val_loss: 0.4448 - val_accuracy: 0.7869\n",
      "Epoch 10/50\n",
      "8/8 [==============================] - 0s 26ms/step - loss: 0.4592 - accuracy: 0.7769 - val_loss: 0.4325 - val_accuracy: 0.7869\n",
      "Epoch 11/50\n",
      "8/8 [==============================] - 0s 26ms/step - loss: 0.4667 - accuracy: 0.7645 - val_loss: 0.4229 - val_accuracy: 0.7869\n",
      "Epoch 12/50\n",
      "8/8 [==============================] - 0s 26ms/step - loss: 0.4473 - accuracy: 0.7934 - val_loss: 0.4143 - val_accuracy: 0.7869\n",
      "Epoch 13/50\n",
      "8/8 [==============================] - 0s 22ms/step - loss: 0.4352 - accuracy: 0.8140 - val_loss: 0.4065 - val_accuracy: 0.8197\n",
      "Epoch 14/50\n",
      "8/8 [==============================] - 0s 25ms/step - loss: 0.3934 - accuracy: 0.8306 - val_loss: 0.3998 - val_accuracy: 0.8197\n",
      "Epoch 15/50\n",
      "8/8 [==============================] - 0s 25ms/step - loss: 0.4077 - accuracy: 0.8306 - val_loss: 0.3947 - val_accuracy: 0.8197\n",
      "Epoch 16/50\n",
      "8/8 [==============================] - 0s 30ms/step - loss: 0.3901 - accuracy: 0.8182 - val_loss: 0.3899 - val_accuracy: 0.8197\n",
      "Epoch 17/50\n",
      "8/8 [==============================] - 0s 26ms/step - loss: 0.3882 - accuracy: 0.8347 - val_loss: 0.3854 - val_accuracy: 0.8197\n",
      "Epoch 18/50\n",
      "8/8 [==============================] - 0s 28ms/step - loss: 0.3854 - accuracy: 0.8347 - val_loss: 0.3820 - val_accuracy: 0.8361\n",
      "Epoch 19/50\n",
      "8/8 [==============================] - 0s 26ms/step - loss: 0.3603 - accuracy: 0.8512 - val_loss: 0.3794 - val_accuracy: 0.8361\n",
      "Epoch 20/50\n",
      "8/8 [==============================] - 0s 25ms/step - loss: 0.4068 - accuracy: 0.8223 - val_loss: 0.3776 - val_accuracy: 0.8361\n",
      "Epoch 21/50\n",
      "8/8 [==============================] - 0s 26ms/step - loss: 0.3621 - accuracy: 0.8388 - val_loss: 0.3755 - val_accuracy: 0.8361\n",
      "Epoch 22/50\n",
      "8/8 [==============================] - 0s 25ms/step - loss: 0.3473 - accuracy: 0.8347 - val_loss: 0.3738 - val_accuracy: 0.8361\n",
      "Epoch 23/50\n",
      "8/8 [==============================] - 0s 31ms/step - loss: 0.3643 - accuracy: 0.8554 - val_loss: 0.3726 - val_accuracy: 0.8361\n",
      "Epoch 24/50\n",
      "8/8 [==============================] - 0s 27ms/step - loss: 0.3517 - accuracy: 0.8636 - val_loss: 0.3720 - val_accuracy: 0.8361\n",
      "Epoch 25/50\n",
      "8/8 [==============================] - 0s 27ms/step - loss: 0.3343 - accuracy: 0.8636 - val_loss: 0.3713 - val_accuracy: 0.8361\n",
      "Epoch 26/50\n",
      "8/8 [==============================] - 0s 25ms/step - loss: 0.3496 - accuracy: 0.8554 - val_loss: 0.3710 - val_accuracy: 0.8361\n",
      "Epoch 27/50\n",
      "8/8 [==============================] - 0s 26ms/step - loss: 0.3426 - accuracy: 0.8595 - val_loss: 0.3709 - val_accuracy: 0.8361\n",
      "Epoch 28/50\n",
      "8/8 [==============================] - 0s 27ms/step - loss: 0.3461 - accuracy: 0.8471 - val_loss: 0.3710 - val_accuracy: 0.8361\n",
      "Epoch 29/50\n",
      "8/8 [==============================] - 0s 26ms/step - loss: 0.3187 - accuracy: 0.8595 - val_loss: 0.3709 - val_accuracy: 0.8525\n",
      "Epoch 30/50\n",
      "8/8 [==============================] - 0s 30ms/step - loss: 0.3302 - accuracy: 0.8430 - val_loss: 0.3709 - val_accuracy: 0.8525\n",
      "Epoch 31/50\n",
      "8/8 [==============================] - 0s 26ms/step - loss: 0.3513 - accuracy: 0.8306 - val_loss: 0.3705 - val_accuracy: 0.8525\n",
      "Epoch 32/50\n",
      "8/8 [==============================] - 0s 26ms/step - loss: 0.3404 - accuracy: 0.8347 - val_loss: 0.3701 - val_accuracy: 0.8361\n",
      "Epoch 33/50\n",
      "8/8 [==============================] - 0s 25ms/step - loss: 0.3298 - accuracy: 0.8719 - val_loss: 0.3704 - val_accuracy: 0.8525\n",
      "Epoch 34/50\n",
      "8/8 [==============================] - 0s 26ms/step - loss: 0.3313 - accuracy: 0.8554 - val_loss: 0.3703 - val_accuracy: 0.8525\n",
      "Epoch 35/50\n",
      "8/8 [==============================] - 0s 30ms/step - loss: 0.3149 - accuracy: 0.8636 - val_loss: 0.3704 - val_accuracy: 0.8525\n",
      "Epoch 36/50\n",
      "8/8 [==============================] - 0s 30ms/step - loss: 0.3129 - accuracy: 0.8678 - val_loss: 0.3707 - val_accuracy: 0.8361\n",
      "Epoch 37/50\n",
      "8/8 [==============================] - 0s 30ms/step - loss: 0.3244 - accuracy: 0.8678 - val_loss: 0.3711 - val_accuracy: 0.8361\n",
      "Epoch 38/50\n",
      "8/8 [==============================] - 0s 30ms/step - loss: 0.3327 - accuracy: 0.8471 - val_loss: 0.3711 - val_accuracy: 0.8361\n",
      "Epoch 39/50\n",
      "8/8 [==============================] - 0s 26ms/step - loss: 0.2973 - accuracy: 0.8802 - val_loss: 0.3711 - val_accuracy: 0.8197\n",
      "Epoch 40/50\n",
      "8/8 [==============================] - 0s 26ms/step - loss: 0.3016 - accuracy: 0.8554 - val_loss: 0.3718 - val_accuracy: 0.8197\n",
      "Epoch 41/50\n",
      "8/8 [==============================] - 0s 26ms/step - loss: 0.3016 - accuracy: 0.8760 - val_loss: 0.3724 - val_accuracy: 0.8361\n",
      "Epoch 42/50\n",
      "8/8 [==============================] - 0s 33ms/step - loss: 0.3176 - accuracy: 0.8595 - val_loss: 0.3726 - val_accuracy: 0.8197\n",
      "Epoch 43/50\n",
      "8/8 [==============================] - 0s 27ms/step - loss: 0.2935 - accuracy: 0.8554 - val_loss: 0.3729 - val_accuracy: 0.8197\n",
      "Epoch 44/50\n",
      "8/8 [==============================] - 0s 27ms/step - loss: 0.3042 - accuracy: 0.8760 - val_loss: 0.3738 - val_accuracy: 0.8197\n",
      "Epoch 45/50\n",
      "8/8 [==============================] - 0s 26ms/step - loss: 0.3122 - accuracy: 0.8554 - val_loss: 0.3749 - val_accuracy: 0.8361\n",
      "Epoch 46/50\n",
      "8/8 [==============================] - 0s 27ms/step - loss: 0.3016 - accuracy: 0.8678 - val_loss: 0.3757 - val_accuracy: 0.8361\n",
      "Epoch 47/50\n",
      "8/8 [==============================] - 0s 28ms/step - loss: 0.2701 - accuracy: 0.8760 - val_loss: 0.3759 - val_accuracy: 0.8361\n",
      "Epoch 48/50\n",
      "8/8 [==============================] - 0s 29ms/step - loss: 0.2790 - accuracy: 0.8760 - val_loss: 0.3758 - val_accuracy: 0.8361\n",
      "Epoch 49/50\n",
      "8/8 [==============================] - 0s 32ms/step - loss: 0.2658 - accuracy: 0.8802 - val_loss: 0.3765 - val_accuracy: 0.8361\n",
      "Epoch 50/50\n",
      "8/8 [==============================] - 0s 30ms/step - loss: 0.2745 - accuracy: 0.8926 - val_loss: 0.3777 - val_accuracy: 0.8361\n"
     ]
    },
    {
     "data": {
      "text/plain": [
       "<keras.callbacks.History at 0x1d3034c28b0>"
      ]
     },
     "execution_count": 13,
     "metadata": {},
     "output_type": "execute_result"
    }
   ],
   "source": [
    "#fitting model\n",
    "model.fit(train_ds, epochs=50, validation_data=val_ds)"
   ]
  },
  {
   "cell_type": "code",
   "execution_count": 14,
   "id": "99bf4d82",
   "metadata": {},
   "outputs": [
    {
     "name": "stdout",
     "output_type": "stream",
     "text": [
      "1/1 [==============================] - 2s 2s/step\n",
      "This particular patient had a 25.9 percent probability of having a heart disease, as evaluated by our model.\n"
     ]
    }
   ],
   "source": [
    "#prédire si le patient a une maladie de coeur ou non\n",
    "sample = {\n",
    "    \"age\": 60,\n",
    "    \"sex\": 1,\n",
    "    \"cp\": 1,\n",
    "    \"trestbps\": 145,\n",
    "    \"chol\": 233,\n",
    "    \"fbs\": 1,\n",
    "    \"restecg\": 2,\n",
    "    \"thalach\": 150,\n",
    "    \"exang\": 0,\n",
    "    \"oldpeak\": 2.3,\n",
    "    \"slope\": 3,\n",
    "    \"ca\": 0,\n",
    "    \"thal\": \"fixed\",\n",
    "}\n",
    "\n",
    "input_dict = {name: tf.convert_to_tensor([value]) for name, value in sample.items()}\n",
    "predictions = model.predict(input_dict)\n",
    "\n",
    "print(\n",
    "    \"This particular patient had a %.1f percent probability \"\n",
    "    \"of having a heart disease, as evaluated by our model.\" % (100 * predictions[0][0],)\n",
    ")"
   ]
  },
  {
   "cell_type": "code",
   "execution_count": null,
   "id": "7252278d",
   "metadata": {},
   "outputs": [],
   "source": []
  }
 ],
 "metadata": {
  "kernelspec": {
   "display_name": "Python 3 (ipykernel)",
   "language": "python",
   "name": "python3"
  },
  "language_info": {
   "codemirror_mode": {
    "name": "ipython",
    "version": 3
   },
   "file_extension": ".py",
   "mimetype": "text/x-python",
   "name": "python",
   "nbconvert_exporter": "python",
   "pygments_lexer": "ipython3",
   "version": "3.9.12"
  }
 },
 "nbformat": 4,
 "nbformat_minor": 5
}
